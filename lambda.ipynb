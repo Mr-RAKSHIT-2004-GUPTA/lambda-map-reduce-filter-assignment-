{
 "cells": [
  {
   "cell_type": "code",
   "execution_count": 1,
   "id": "357003d2-9b01-4dd5-bb48-403758b1cc60",
   "metadata": {},
   "outputs": [
    {
     "data": {
      "text/plain": [
       "[('Virat Kohli', 24936),\n",
       " ('Jack Kallis', 25534),\n",
       " ('Ricky Ponting', 27483),\n",
       " ('Sachin Tendulkar', 34357)]"
      ]
     },
     "execution_count": 1,
     "metadata": {},
     "output_type": "execute_result"
    }
   ],
   "source": [
    "#question 1:-\n",
    "l = [('Sachin Tendulkar', 34357), ('Ricky Ponting', 27483), ('Jack Kallis', 25534), ('Virat Kohli', 24936)]\n",
    "sorted(l,key = lambda x:x[1])"
   ]
  },
  {
   "cell_type": "markdown",
   "id": "ebdea572-9228-4f72-afb1-f50221e4a076",
   "metadata": {},
   "source": [
    "Question 2:-"
   ]
  },
  {
   "cell_type": "code",
   "execution_count": 3,
   "id": "29e66ac1-cb84-4c02-88c4-bd535165f83a",
   "metadata": {},
   "outputs": [
    {
     "data": {
      "text/plain": [
       "[1, 4, 9, 16, 25, 36, 49, 64, 81, 100]"
      ]
     },
     "execution_count": 3,
     "metadata": {},
     "output_type": "execute_result"
    }
   ],
   "source": [
    "my_list = [1, 2, 3, 4, 5, 6, 7, 8, 9, 10]\n",
    "list(map(lambda x : x**2 , my_list))"
   ]
  },
  {
   "cell_type": "markdown",
   "id": "5e793191-60df-4b94-b31d-ac0df5495159",
   "metadata": {},
   "source": [
    "Question 3:-"
   ]
  },
  {
   "cell_type": "code",
   "execution_count": 4,
   "id": "c824fbcd-9905-48f1-a846-8338fa696eee",
   "metadata": {},
   "outputs": [
    {
     "data": {
      "text/plain": [
       "('1', '2', '3', '4', '5', '6', '7', '8', '9', '10')"
      ]
     },
     "execution_count": 4,
     "metadata": {},
     "output_type": "execute_result"
    }
   ],
   "source": [
    "my_list = [1, 2, 3, 4, 5, 6, 7, 8, 9, 10]\n",
    "tuple(map(lambda x :str(x),my_list))"
   ]
  },
  {
   "cell_type": "markdown",
   "id": "809f50b8-fb21-46db-8427-dd55d15e29cc",
   "metadata": {},
   "source": [
    "Question 4:-\n"
   ]
  },
  {
   "cell_type": "code",
   "execution_count": 6,
   "id": "b624ea75-7061-4905-8210-867af58deab0",
   "metadata": {},
   "outputs": [
    {
     "data": {
      "text/plain": [
       "15511210043330985984000000"
      ]
     },
     "execution_count": 6,
     "metadata": {},
     "output_type": "execute_result"
    }
   ],
   "source": [
    "from functools import reduce\n",
    "my_list = [i for i in range(1,26)]\n",
    "reduce(lambda x,y:x*y,my_list)"
   ]
  },
  {
   "cell_type": "markdown",
   "id": "3582d074-7e38-41a0-9d7b-227397c497ca",
   "metadata": {},
   "source": [
    "Question 5:-"
   ]
  },
  {
   "cell_type": "code",
   "execution_count": 15,
   "id": "2f9d3de7-b6d3-4bd0-bed5-0d55ab59d94b",
   "metadata": {},
   "outputs": [
    {
     "data": {
      "text/plain": [
       "[6, 60, 90, 120]"
      ]
     },
     "execution_count": 15,
     "metadata": {},
     "output_type": "execute_result"
    }
   ],
   "source": [
    "my_list  = [2, 3, 6, 9, 27, 60, 90, 120, 55, 46]\n",
    "list(filter(lambda x:x%2==0 and x%3==0,my_list))"
   ]
  },
  {
   "cell_type": "markdown",
   "id": "5c485b21-be84-4c90-9538-c1ed10c47b22",
   "metadata": {},
   "source": [
    "Question 6:-"
   ]
  },
  {
   "cell_type": "code",
   "execution_count": 16,
   "id": "de3ad5dc-061e-4557-8252-822c0c1c7d49",
   "metadata": {},
   "outputs": [
    {
     "data": {
      "text/plain": [
       "['php', 'aba', 'radar', 'level']"
      ]
     },
     "execution_count": 16,
     "metadata": {},
     "output_type": "execute_result"
    }
   ],
   "source": [
    "my_list = ['python', 'php', 'aba', 'radar', 'level']\n",
    "list(filter(lambda x:x==x[::-1],my_list))"
   ]
  },
  {
   "cell_type": "code",
   "execution_count": null,
   "id": "11003f13-6cd3-469b-8089-cf0521f4b35e",
   "metadata": {},
   "outputs": [],
   "source": []
  }
 ],
 "metadata": {
  "kernelspec": {
   "display_name": "Python 3 (ipykernel)",
   "language": "python",
   "name": "python3"
  },
  "language_info": {
   "codemirror_mode": {
    "name": "ipython",
    "version": 3
   },
   "file_extension": ".py",
   "mimetype": "text/x-python",
   "name": "python",
   "nbconvert_exporter": "python",
   "pygments_lexer": "ipython3",
   "version": "3.11.7"
  }
 },
 "nbformat": 4,
 "nbformat_minor": 5
}
